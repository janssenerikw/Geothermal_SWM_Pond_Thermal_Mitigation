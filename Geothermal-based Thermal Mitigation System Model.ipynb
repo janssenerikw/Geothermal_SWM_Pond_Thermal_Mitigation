{
 "cells": [
  {
   "cell_type": "markdown",
   "metadata": {},
   "source": [
    "# Geothermal-based Thermal Mitigation System Model\n",
    "Created by: Erik Janssen   \n",
    "Date: September 2020\n",
    "\n",
    "## Introduction\n",
    "This Jupyter notebook is a companion to the paper titled \"Thermal Mitigation of Stormwater Management Pond Outflows Using Geothermal Cooling\" submitted to the Journal of Water Management Modeling. It provides a Python function that numerically solves the analytical geothermal system model. Different functions would be required depending on the variable being solved for. The function provided below solves for the pond outflow temperature downstream of the geothermal cooling system (T<sub>p2</sub> in the paper). "
   ]
  },
  {
   "cell_type": "code",
   "execution_count": 22,
   "metadata": {},
   "outputs": [],
   "source": [
    "# Import Libraries\n",
    "import math #Contains library for natural logirthm function\n",
    "from scipy import optimize as optimize #Contains library for numerical solver\n",
    "\n",
    "# Define solver function\n",
    "def predicted(T_g, T_p1, flow_p, flow_h, R_SHX, R_GHX, L_SHX, L_GHX, rho_p, rho_h, cap_p, cap_h):\n",
    "    '''\n",
    "    This function calculates a numerical solution for pond outflow downstream of the geothermal cooling system (T_p2)\n",
    "    based on other system parameters that must be defined:    \n",
    "    T_g - Ground Temperature in units C\n",
    "    T_p1 - Pond outflow temperature upstream of the geothermal system in units C\n",
    "    flow_p - Pond flowrate in units L/s\n",
    "    flow_h - Hydronic flowrate in units L/min\n",
    "    R_SHX - Thermal resistance of the SHX in units mC/W\n",
    "    R_GHX - Thermal resistance of the GHX in units mC/W\n",
    "    L_GHX - Borehole length (depth of borehole(s) multiplied by number of boreholes) (m)\n",
    "    L_SHX - Total length of pipe in the SHX that is immersed in the pond outflow (m)\n",
    "    rho_p - Density of water kg/m3\n",
    "    rho_h - Density of the heat transfer fluid kg/m3\n",
    "    cap_p - Specific heat capacity of water J/(kgC)\n",
    "    cap_h - Specific heat capacity of water J/(kgC)    \n",
    "    '''\n",
    "    # Change flow units to m3/s\n",
    "    flow_p = flow_p*(1/1000)\n",
    "    flow_h = flow_h*(1/60)*(1/1000)\n",
    "\n",
    "    # There is a point discontinuity of these terms are the same - so if they are the same make them slightly different\n",
    "    if (rho_p * flow_p * cap_p) == (rho_h * flow_h * cap_h):\n",
    "        flow_p = flow_p * 1.001\n",
    "\n",
    "    # Function that defines the heat transfer as a function of the pond outlet temperature and other set parameters\n",
    "    def q(T_p2):\n",
    "        q_ = rho_p * flow_p * cap_p * (T_p1 - T_p2)\n",
    "        return q_\n",
    "\n",
    "    # Function that defines the hydronic system return temperature to the borehole as a function of the pond outlet \n",
    "    # temperature and other set parameters\n",
    "    def T_h2(T_p2):\n",
    "        T_h2_ = q(T_p2) * R_GHX / L_GHX + q(T_p2)/(2 * rho_h * flow_h * cap_h) + T_g\n",
    "        return T_h2_\n",
    "\n",
    "    # Function that defines the hydronic system supply temperature to the borehole as a function of the pond outlet \n",
    "    # temperature and other set parameters\n",
    "    def T_h1(T_p2):\n",
    "        T_h1_ = T_h2(T_p2) - q(T_p2) / (rho_h * flow_h * cap_h)\n",
    "        if T_h1_ > T_g: #supply can't be cooler than ground itself...\n",
    "            T_h1_x = T_h1_\n",
    "        else:\n",
    "            T_h1_x = T_g\n",
    "        return T_h1_x\n",
    "\n",
    "    # Function to be solved numerically for the pond outflow temperature (T_p2)\n",
    "    def y(T_p2):\n",
    "        ln_numer = T_p2 - T_h1(T_p2)\n",
    "        ln_denom = T_p1 - T_h2(T_p2)\n",
    "        rat_denom = T_p1 - T_h2(T_p2) - (T_p2 - T_h1(T_p2))\n",
    "        if ln_numer/ln_denom > 0:\n",
    "            if rat_denom < -0.00001: #prevents things from blowing up when numerically solving\n",
    "                y_ =  q(T_p2) * R_SHX * math.log(ln_numer/ln_denom)/rat_denom + L_SHX\n",
    "            else:\n",
    "                y_ = -1 # Used as a flag to identify no solution\n",
    "        else:\n",
    "            y_ = -1 # Used as a flag to identify no solution\n",
    "        return y_\n",
    "\n",
    "    # This is the denominator of the natural logarithm expression in y; it will be used in this function to \n",
    "    # identify when the ln argument blows up to infinity\n",
    "    def ln_den(T_p2):\n",
    "        y = T_p1 - T_h2(T_p2)\n",
    "        return y\n",
    "\n",
    "    # This is when the argument of the natural logarithm blows up to infinity - need to avoid in the numerical solution\n",
    "    def blows_up():\n",
    "        blown_up = optimize.fsolve(ln_den, 15)\n",
    "        return blown_up    \n",
    "\n",
    "    # Need to provide an initial point for the numerical solver but there are vertical asymptotes that \n",
    "    # need to be avoided - this function is used to avoid them\n",
    "    def post_blw_up_factor():\n",
    "        if (flow_h < 0.0002):\n",
    "            factor = 0.01\n",
    "        else:\n",
    "            factor = 0.0005\n",
    "        return factor       \n",
    "\n",
    "    # Define the initial geuss for the numerical solver\n",
    "    post_blowup = blows_up()+post_blw_up_factor()\n",
    "\n",
    "    # Solve the equations   \n",
    "    Tp2_C = optimize.fsolve(y, post_blowup) # Pond outflow temperature downstream of the geothermal system in units C\n",
    "    Th1_C = T_h1(Tp2_C) # Hydronic system supply temp to surface water heat exchanger in units C\n",
    "    Th2_C = T_h2(Tp2_C) # Hydronic system return temp to borehole in units C\n",
    "    q_ = q(Tp2_C) # Cooling power in units kW\n",
    "    result = [Tp2_C[0],Th1_C[0],Th2_C[0],q_[0]]\n",
    "    \n",
    "    return result  "
   ]
  },
  {
   "cell_type": "markdown",
   "metadata": {},
   "source": [
    "Here is the solver used in an example:"
   ]
  },
  {
   "cell_type": "code",
   "execution_count": 45,
   "metadata": {},
   "outputs": [],
   "source": [
    "result = predicted(T_g=10, T_p1=30, flow_p=0.4, flow_h=17, R_SHX=0.14, R_GHX=0.21, L_SHX=230, L_GHX=183, rho_p=1000, \n",
    "          rho_h=1000, cap_p=4184, cap_h=4184)"
   ]
  },
  {
   "cell_type": "code",
   "execution_count": 46,
   "metadata": {},
   "outputs": [
    {
     "name": "stdout",
     "output_type": "stream",
     "text": [
      "For the provided parameters, the system provides 9693 W of cooling and the outflow temperature downstream of the goethermal system is 24.2\n"
     ]
    }
   ],
   "source": [
    "print('For the provided parameters, the system provides ' + str(int(result[3])) + ' W of cooling and the outflow \\\n",
    "temperature downstream of the goethermal system is ' + str(round(result[0],1)))"
   ]
  },
  {
   "cell_type": "code",
   "execution_count": null,
   "metadata": {},
   "outputs": [],
   "source": []
  }
 ],
 "metadata": {
  "kernelspec": {
   "display_name": "Python 3",
   "language": "python",
   "name": "python3"
  },
  "language_info": {
   "codemirror_mode": {
    "name": "ipython",
    "version": 3
   },
   "file_extension": ".py",
   "mimetype": "text/x-python",
   "name": "python",
   "nbconvert_exporter": "python",
   "pygments_lexer": "ipython3",
   "version": "3.7.3"
  }
 },
 "nbformat": 4,
 "nbformat_minor": 2
}
